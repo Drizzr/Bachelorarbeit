{
 "cells": [
  {
   "cell_type": "code",
   "execution_count": null,
   "metadata": {},
   "outputs": [],
   "source": [
    "\n",
    "Patient = \"P035\" #\"P015/P015_S01_D2024-07-06\"\n",
    "run = \"S01\"\n",
    "date = \"2025-06-26\""
   ]
  },
  {
   "cell_type": "code",
   "execution_count": null,
   "metadata": {},
   "outputs": [],
   "source": [
    "import importlib\n",
    "import analyzer\n",
    "importlib.reload(analyzer)\n",
    "from analyzer import Analyzer\n",
    "import matplotlib.pyplot as plt\n",
    "import pandas as pd\n",
    "import re\n",
    "import os\n",
    "import json\n",
    "import numpy as np\n",
    "\n",
    "\n",
    "\n",
    "\n",
    "analysis = Analyzer(\n",
    "        filename=f\"Data/{Patient}/{Patient}_{run}_D{date}.tdms\",\n",
    "        add_filename=f\"Data/{Patient}/{Patient}_{run}_D{date}_addCh.tdms\",\n",
    "        log_file_path=f\"Data/{Patient}/QZFM_log_file.txt\",\n",
    "        sensor_channels_to_exclude={\"Brustlage\": [\"NL_x\", \"OT_y\", \"OT_z\", \"OX_x\", \"OX_y\"]},\n",
    "        model_checkpoint_dir=f\"MCG_segmentation/trained_models/UNet_1D_900k\",\n",
    "    )\n",
    "\n",
    "key = \"Brustlage\"  # \"Bauchlage\", \"Brustlage\", \"Rechtslage\", \"LinksLage\"\n",
    "(x_data, y_data, z_data), time, single_run = analysis.prepare_data(key, apply_default_filter=True, plot_alignment=True)\n"
   ]
  },
  {
   "cell_type": "markdown",
   "metadata": {},
   "source": [
    "# Find fitting intervall"
   ]
  },
  {
   "cell_type": "code",
   "execution_count": null,
   "metadata": {},
   "outputs": [],
   "source": [
    "intervall_start = 0\n",
    "intervall_end = 20000\n",
    "\n",
    "\n",
    "analysis.butterfly_plot(single_run[: :, intervall_start:intervall_end], time[intervall_start:intervall_end], single_run.shape[0], \"Brustlage\")"
   ]
  },
  {
   "cell_type": "markdown",
   "metadata": {},
   "source": [
    "## Apply ICA filtering "
   ]
  },
  {
   "cell_type": "code",
   "execution_count": null,
   "metadata": {},
   "outputs": [],
   "source": [
    "\n",
    "\n",
    "x_data_intervall = x_data[:, :, intervall_start:intervall_end]\n",
    "y_data_intervall = y_data[:, :, intervall_start:intervall_end]\n",
    "z_data_intervall = z_data[:, :, intervall_start:intervall_end]\n",
    "time_intervall = time[intervall_start:intervall_end]\n",
    "single_run_intervall = single_run[:, intervall_start:intervall_end]\n",
    "\n",
    "\n",
    "#analysis.plot4x4(z_data[:, :, 250:1250], time[250:1250], name=\"z_data\")\n",
    "\n",
    "x_data_filtered, _, _, _ = analysis.ICA_filter(x_data_intervall, heart_beat_score_threshold=0.67, plot_result=True)\n",
    "y_data_filtered, ica_components, _, _ = analysis.ICA_filter(y_data_intervall, heart_beat_score_threshold=0.67, plot_result=True)\n",
    "z_data_filtered, _, _, _ = analysis.ICA_filter(z_data_intervall, heart_beat_score_threshold=0.70, plot_result=True)\n",
    "\n",
    "#print(ica_components.shape)\n",
    "#analysis.plot_sensor_matrix(ica_components[:, :500].reshape(4, 4, -1), time_intervall[:500], name=\"ica_components\")"
   ]
  },
  {
   "cell_type": "markdown",
   "metadata": {},
   "source": [
    "Improve Windowing"
   ]
  },
  {
   "cell_type": "code",
   "execution_count": null,
   "metadata": {},
   "outputs": [],
   "source": [
    "single_run_filtered = single_run_intervall#analysis.invert_field_directions(x_data_filtered, y_data_filtered, z_data_filtered, key, 48)\n",
    "\n",
    "\n",
    "analysis.butterfly_plot(single_run_filtered, time_intervall, 48, f\"Original {key}\")\n",
    "\n",
    "\n",
    "analysis.find_cleanest_channel(single_run_filtered)\n",
    "\n",
    "# use cleanest channel for peak detection\n",
    "peak_positions, ch, labels, _, _ = analysis.detect_qrs_complex_peaks_cleanest_channel(single_run_filtered, print_heart_rate=True, confidence_threshold=0.7, confidence_weight=1, plausibility_weight=0)\n",
    "if peak_positions is not None and len(peak_positions) > 0:\n",
    "    plt.figure(figsize=(12, 4))\n",
    "    plt.plot(single_run_filtered[ch, :], label='Signal', linewidth=1.2)\n",
    "    #plt.plot(resampled_data[ch, :], label='Signal', linewidth=1.2)\n",
    "    plt.plot(peak_positions, single_run_filtered[ch, peak_positions], \"ro\", markersize=6, label='R Peaks')\n",
    "    plt.title(f\"QRS Detection - Cleanest Channel {ch + 1}\")\n",
    "    plt.xlabel(\"Time (samples)\")\n",
    "    plt.ylabel(\"Amplitude\")\n",
    "    plt.legend()\n",
    "    plt.grid(True)\n",
    "    plt.tight_layout()\n",
    "    plt.show()\n",
    "else:\n",
    "    print(\"No R peaks detected or `peak_positions` is empty.\")\n",
    "analysis.plot_segmented_signal(single_run_filtered[ch, :], labels[ch, :])\n",
    "\n",
    "\n",
    "# window averaging\n",
    "avg_channels, time_window = analysis.avg_window(single_run_filtered, peak_positions, window_left=0.3, window_right=0.5)\n",
    "analysis.butterfly_plot(avg_channels, time_window, 48, f\"Original {key}\")\n",
    "\n",
    "\n",
    "x_data_window, y_data_window, z_data_window = analysis.get_field_directions(avg_channels, key)\n",
    "\n",
    "analysis.plot_sensor_matrix(x_data_window, time_window, name=\"X-Field\")\n",
    "analysis.plot_sensor_matrix(y_data_window, time_window, name=\"Y-Field\")\n",
    "analysis.plot_sensor_matrix(z_data_window, time_window, name=\"Z-Field\")\n",
    "\n"
   ]
  },
  {
   "cell_type": "markdown",
   "metadata": {},
   "source": [
    "## ICD Analysis"
   ]
  },
  {
   "cell_type": "code",
   "execution_count": null,
   "metadata": {},
   "outputs": [],
   "source": [
    "patient = \"P019\" #\"P015/P015_S01_D2024-07-06\"\n",
    "date = \"2024-08-29\"\n",
    "run = \"S01\"\n",
    "\n",
    "log_file_path = f\"Data/{patient}/QZFM_log_file.txt\"\n",
    "add_filename = f\"Data/{patient}/{patient}_{run}_D{date}_addCh.tdms\"\n",
    "file_name = f\"Data/{patient}/{patient}_{run}_D{date}.tdms\"\n",
    "\n",
    "analysis = Analyzer(\n",
    "        filename=file_name,\n",
    "        add_filename=add_filename,\n",
    "        log_file_path=log_file_path,\n",
    "        model_checkpoint_dir=\"MCG_segmentation/trained_models/MCGSegmentator_s\",\n",
    "        sensor_channels_to_exclude={}\n",
    "    )\n",
    "\n",
    "(x_data, y_data, z_data), time, single_run = analysis.prepare_data(\"Brustlage\", apply_default_filter=True, plot_alignment=True)\n",
    "\n",
    "single_run = single_run[:, 38000:40000]\n",
    "time = time[38000:40000]\n",
    "\n",
    "analysis.butterfly_plot(single_run, time, 48, f\"Original\")\n",
    "\n",
    "peak_positions, ch, labels, _, _ = analysis.detect_qrs_complex_peaks_cleanest_channel(single_run, print_heart_rate=True, confidence_threshold=0.7)\n",
    "\n",
    "plt.figure(figsize=(12, 4))\n",
    "plt.plot(time, single_run[ch, :], label='Signal', linewidth=1.2)\n",
    "plt.title(f\"QRS Detection - Cleanest Channel {ch + 1}\")\n",
    "plt.xlabel(\"Time (s)\")\n",
    "plt.ylabel(\"Amplitude\")\n",
    "plt.legend()\n",
    "plt.grid(True)\n",
    "plt.tight_layout()\n",
    "plt.show()\n",
    "\n",
    "\n",
    "if peak_positions is not None and len(peak_positions) > 0:\n",
    "    # window averaging\n",
    "    avg_channels, time_window = analysis.avg_window(single_run, peak_positions, window_left=0.3, window_right=0.5)\n",
    "    analysis.butterfly_plot(avg_channels, time_window, 48, f\"Original\")\n",
    "\n",
    "\n",
    "# Example: Apply LSD plotting to QRS-aligned average data\n",
    "channels_to_plot = list(range(avg_channels.shape[0]))  # or a subset if too many\n",
    "\n",
    "# Create dummy noise_theos (or load actual theoretical noise floor if available)\n",
    "noise_theos = [1.0] * len(channels_to_plot)  # Replace with real values if you have them\n",
    "\n",
    "\n",
    "# Call your function\n",
    "analysis.plot_lsd_multichannel(\n",
    "    data=avg_channels,\n",
    "    noise_theos=noise_theos,\n",
    "    channels=channels_to_plot,\n",
    ")\n",
    "\n"
   ]
  }
 ],
 "metadata": {
  "kernelspec": {
   "display_name": "venv",
   "language": "python",
   "name": "python3"
  },
  "language_info": {
   "codemirror_mode": {
    "name": "ipython",
    "version": 3
   },
   "file_extension": ".py",
   "mimetype": "text/x-python",
   "name": "python",
   "nbconvert_exporter": "python",
   "pygments_lexer": "ipython3",
   "version": "3.11.2"
  }
 },
 "nbformat": 4,
 "nbformat_minor": 4
}
