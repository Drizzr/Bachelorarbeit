{
 "cells": [
  {
   "cell_type": "code",
   "execution_count": null,
   "id": "9a4126ba",
   "metadata": {},
   "outputs": [],
   "source": [
    "import numpy as np\n",
    "import matplotlib.pyplot as plt"
   ]
  },
  {
   "cell_type": "code",
   "execution_count": null,
   "id": "255991f1",
   "metadata": {},
   "outputs": [],
   "source": [
    "path = \"trained_models/UNet_1D_900k/logs/training_metrics.csv\""
   ]
  },
  {
   "cell_type": "code",
   "execution_count": null,
   "id": "0933bd14",
   "metadata": {},
   "outputs": [],
   "source": [
    "data = np.loadtxt(path, delimiter=\",\", skiprows=1)"
   ]
  },
  {
   "cell_type": "code",
   "execution_count": null,
   "id": "82412ee6",
   "metadata": {},
   "outputs": [],
   "source": [
    "# plot training and validation loss\n",
    "plt.plot(data[:, 0], data[:, 1], label=\"Training Loss\")\n",
    "plt.plot(data[:, 0], data[:, 3], label=\"Validation Loss\")\n",
    "plt.xlabel(\"Epoch\")\n",
    "plt.ylabel(\"Loss\")\n",
    "plt.xticks(np.arange(0, data[-1, 0], 10))\n",
    "plt.title(\"Training and Validation Loss\")\n",
    "plt.legend()\n",
    "plt.grid()"
   ]
  },
  {
   "cell_type": "code",
   "execution_count": null,
   "id": "7dc2cee1",
   "metadata": {},
   "outputs": [],
   "source": [
    "# plot training and validation accuracy\n",
    "plt.figure()\n",
    "plt.plot(data[:, 0], data[:, 2], label=\"Training Accuracy\")\n",
    "plt.plot(data[:, 0], data[:, 4], label=\"Validation Accuracy\")\n",
    "plt.plot(data[:, 0], data[:, 5], label=\"Validation F1 Score\")\n",
    "plt.xlabel(\"Epoch\")\n",
    "plt.ylabel(\"Accuracy (%)\")\n",
    "plt.xticks(np.arange(0, data[-1, 0], 10))\n",
    "plt.title(\"Training and Validation Accuracy\")\n",
    "plt.legend()\n",
    "plt.grid()\n",
    "plt.show()"
   ]
  },
  {
   "cell_type": "code",
   "execution_count": null,
   "id": "ac21e6e6",
   "metadata": {},
   "outputs": [],
   "source": [
    "# plot validation learning rate\n",
    "plt.figure()\n",
    "plt.plot(data[:, 0], data[:, 6], label=\"Learning Rate\")\n",
    "plt.xlabel(\"Epoch\")\n",
    "plt.ylabel(\"Learning Rate\")\n",
    "plt.xticks(np.arange(0, data[-1, 0], 10))\n",
    "plt.title(\"Learning Rate\")\n",
    "plt.legend()\n",
    "plt.grid()\n",
    "plt.show()"
   ]
  },
  {
   "cell_type": "code",
   "execution_count": null,
   "id": "23b33f56",
   "metadata": {},
   "outputs": [],
   "source": [
    "# val f1 score comparison\n",
    "\n",
    "mcg_segmentator_s = np.loadtxt(\"trained_models/MCGSegmentator_s/logs/training_metrics.csv\", delimiter=\",\", skiprows=1)\n",
    "mcg_segmentator_xl = np.loadtxt(\"trained_models/MCGSegmentator_xl/logs/training_metrics.csv\", delimiter=\",\", skiprows=1)\n",
    "dens_model = np.loadtxt(\"trained_models/DENS_Model/logs/training_metrics.csv\", delimiter=\",\", skiprows=1)\n",
    "UNet_1D_900k = np.loadtxt(\"trained_models/UNet_1D_900k/logs/training_metrics.csv\", delimiter=\",\", skiprows=1)\n",
    "UNet_1D_15M = np.loadtxt(\"trained_models/UNet_1D_15M/logs/training_metrics.csv\", delimiter=\",\", skiprows=1)\n",
    "\n",
    "plt.figure()\n",
    "plt.plot(mcg_segmentator_s[:20, 0], mcg_segmentator_s[:20, 5], label=\"MCGSegmentator s\")\n",
    "plt.plot(mcg_segmentator_xl[:20, 0], mcg_segmentator_xl[:20, 5], label=\"MCGSegmentator xl\")\n",
    "plt.plot(dens_model[:20, 0], dens_model[:20, 5], label=\"DENS Model\")\n",
    "plt.plot(UNet_1D_900k[:20, 0], UNet_1D_900k[:20, 5], label=\"UNet 1D 900k\")\n",
    "plt.plot(UNet_1D_15M[:20, 0], UNet_1D_15M[:20, 5], label=\"UNet 1D 15M\")\n",
    "plt.xlabel(\"Epoch\")\n",
    "plt.ylabel(\"Validation F1 Score\")\n",
    "plt.xticks(np.arange(0, dens_model[-1, 0], 3))\n",
    "plt.title(\"Validation F1 Score Comparison\")\n",
    "plt.legend()\n",
    "plt.grid()\n",
    "plt.show()"
   ]
  },
  {
   "cell_type": "code",
   "execution_count": null,
   "id": "d572f32f",
   "metadata": {},
   "outputs": [],
   "source": [
    "# validation loss comparison\n",
    "plt.figure()\n",
    "plt.plot(mcg_segmentator_s[:20, 0], mcg_segmentator_s[:20, 3], label=\"MCGSegmentator s\")\n",
    "plt.plot(mcg_segmentator_xl[:20, 0], mcg_segmentator_xl[:20, 3], label=\"MCGSegmentator xl\")\n",
    "plt.plot(dens_model[:20, 0], dens_model[:20, 3], label=\"DENS Model\")\n",
    "plt.plot(UNet_1D_900k[:20, 0], UNet_1D_900k[:20, 3], label=\"UNet 1D 900k\")\n",
    "plt.plot(UNet_1D_15M[:20, 0], UNet_1D_15M[:20, 3], label=\"UNet 1D 15M\")\n",
    "plt.xlabel(\"Epoch\")\n",
    "plt.ylabel(\"Loss\")\n",
    "plt.xticks(np.arange(0, dens_model[-1, 0], 3))\n",
    "plt.title(\"Loss Comparison\")\n",
    "plt.legend()\n",
    "plt.grid()\n",
    "plt.show()"
   ]
  }
 ],
 "metadata": {
  "kernelspec": {
   "display_name": "venv",
   "language": "python",
   "name": "python3"
  },
  "language_info": {
   "codemirror_mode": {
    "name": "ipython",
    "version": 3
   },
   "file_extension": ".py",
   "mimetype": "text/x-python",
   "name": "python",
   "nbconvert_exporter": "python",
   "pygments_lexer": "ipython3",
   "version": "3.11.2"
  }
 },
 "nbformat": 4,
 "nbformat_minor": 5
}
